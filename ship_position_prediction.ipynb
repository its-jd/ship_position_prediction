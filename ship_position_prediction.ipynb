{
  "nbformat": 4,
  "nbformat_minor": 0,
  "metadata": {
    "colab": {
      "name": "ship_position_prediction.ipynb",
      "provenance": [],
      "collapsed_sections": []
    },
    "kernelspec": {
      "name": "python3",
      "display_name": "Python 3"
    }
  },
  "cells": [
    {
      "cell_type": "code",
      "metadata": {
        "id": "zeRkaop1V_1Z",
        "colab_type": "code",
        "colab": {}
      },
      "source": [
        ""
      ],
      "execution_count": 0,
      "outputs": []
    },
    {
      "cell_type": "markdown",
      "metadata": {
        "id": "L_mhjrIJV5YR",
        "colab_type": "text"
      },
      "source": [
        "Task: Ship position prediction based on past observation\n",
        "\n",
        "Dataset: I have chosen dataset of April 2016 - Zone 14 ('AIS_2016_04_Zone14.csv') from the https://marinecadastre.gov/ais/ \n",
        "\n",
        "---\n",
        "\n"
      ]
    },
    {
      "cell_type": "markdown",
      "metadata": {
        "id": "m8Y8WVg7XCTU",
        "colab_type": "text"
      },
      "source": [
        "import all necessary library and packages"
      ]
    },
    {
      "cell_type": "code",
      "metadata": {
        "id": "asR7kPQtIFY3",
        "colab_type": "code",
        "colab": {}
      },
      "source": [
        "import pandas as pd\n",
        "import numpy as np\n",
        "import datetime\n",
        "from sklearn.model_selection import train_test_split\n",
        "from sklearn import preprocessing\n",
        "from keras.models import Sequential,load_model\n",
        "from keras.callbacks import ModelCheckpoint,EarlyStopping,ReduceLROnPlateau\n",
        "from keras.layers.core import Dense, Dropout, Lambda\n",
        "from keras.optimizers import rmsprop,Adam\n",
        "from sklearn.metrics import mean_squared_error\n",
        "from math import sqrt\n",
        "from keras.regularizers import l2,l1,l1_l2\n",
        "from keras import initializers\n",
        "import matplotlib.pyplot as plt\n",
        "import time\n",
        "seed = 1234"
      ],
      "execution_count": 0,
      "outputs": []
    },
    {
      "cell_type": "markdown",
      "metadata": {
        "id": "T-uFVHQsV4Ba",
        "colab_type": "text"
      },
      "source": [
        "Specify dataset file and store it in variable named data\n",
        "\n",
        "---\n",
        "\n"
      ]
    },
    {
      "cell_type": "code",
      "metadata": {
        "id": "5gwWq9ySSz85",
        "colab_type": "code",
        "outputId": "82006d9d-3c16-432c-b569-c58ea616633a",
        "colab": {
          "resources": {
            "http://localhost:8080/nbextensions/google.colab/files.js": {
              "data": "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",
              "ok": true,
              "headers": [
                [
                  "content-type",
                  "application/javascript"
                ]
              ],
              "status": 200,
              "status_text": ""
            }
          },
          "base_uri": "https://localhost:8080/",
          "height": 57
        }
      },
      "source": [
        "from google.colab import files\n",
        "uploaded = files.upload()"
      ],
      "execution_count": 0,
      "outputs": [
        {
          "output_type": "display_data",
          "data": {
            "text/html": [
              "\n",
              "     <input type=\"file\" id=\"files-9a7d0002-550c-4559-b0da-3f18106633ac\" name=\"files[]\" multiple disabled />\n",
              "     <output id=\"result-9a7d0002-550c-4559-b0da-3f18106633ac\">\n",
              "      Upload widget is only available when the cell has been executed in the\n",
              "      current browser session. Please rerun this cell to enable.\n",
              "      </output>\n",
              "      <script src=\"/nbextensions/google.colab/files.js\"></script> "
            ],
            "text/plain": [
              "<IPython.core.display.HTML object>"
            ]
          },
          "metadata": {
            "tags": []
          }
        },
        {
          "output_type": "stream",
          "text": [
            "Saving AIS_2016_04_Zone14.csv to AIS_2016_04_Zone14.csv\n"
          ],
          "name": "stdout"
        }
      ]
    },
    {
      "cell_type": "code",
      "metadata": {
        "id": "pPKrg_rgl9eY",
        "colab_type": "code",
        "colab": {}
      },
      "source": [
        "data = pd.read_csv('AIS_2016_04_Zone14.csv')"
      ],
      "execution_count": 0,
      "outputs": []
    },
    {
      "cell_type": "code",
      "metadata": {
        "id": "nRKM79STa0Pb",
        "colab_type": "code",
        "outputId": "b24d60d1-b64b-4b82-dbd8-e1190631b72b",
        "colab": {
          "base_uri": "https://localhost:8080/",
          "height": 33
        }
      },
      "source": [
        "data.shape"
      ],
      "execution_count": 0,
      "outputs": [
        {
          "output_type": "execute_result",
          "data": {
            "text/plain": [
              "(3729293, 16)"
            ]
          },
          "metadata": {
            "tags": []
          },
          "execution_count": 77
        }
      ]
    },
    {
      "cell_type": "markdown",
      "metadata": {
        "id": "3YqA6j3sXP9l",
        "colab_type": "text"
      },
      "source": [
        "This file contain data for many ships in the month of April,2016. out of this I have chosen ship named 'MISS JULIE' for this task, as there were more entries for this ship in the dataset."
      ]
    },
    {
      "cell_type": "code",
      "metadata": {
        "id": "-uLoL9SfIESr",
        "colab_type": "code",
        "colab": {}
      },
      "source": [
        "#  select one ship named 'Miss Julie'\n",
        "missJulie = data.loc[data['VesselName'] == 'MISS JULIE']"
      ],
      "execution_count": 0,
      "outputs": []
    },
    {
      "cell_type": "markdown",
      "metadata": {
        "id": "GU5nW3SuXwXU",
        "colab_type": "text"
      },
      "source": [
        "Here we are using data for only one month therefore,  year and month part in the pandas datetime object  is not useful. So first extract day,hour,minute,second data from the BaseDateTime column. \n",
        "\n",
        "Instead of using different variables representing hour,minute and second information, lets convert it into only one variable named totalTime. Also we have many other columns, which has constant value for all the entries. this will not add any information for the prediction task. so lets delete all those columns."
      ]
    },
    {
      "cell_type": "code",
      "metadata": {
        "id": "zIkFYEUdIjvo",
        "colab_type": "code",
        "colab": {}
      },
      "source": [
        "#seperate date, hour,minute,second data\n",
        "missJulie['day'] = pd.DatetimeIndex(missJulie['BaseDateTime']).day\n",
        "missJulie['hour'] = pd.DatetimeIndex(missJulie['BaseDateTime']).hour\n",
        "missJulie['minute'] = pd.DatetimeIndex(missJulie['BaseDateTime']).minute\n",
        "missJulie['second'] = pd.DatetimeIndex(missJulie['BaseDateTime']).second\n",
        "missJulie['totalTime'] = missJulie['hour'].multiply(3600) + missJulie['minute'].multiply(60) + missJulie['second']\n",
        "\n",
        "# delete columns with constant values\n",
        "del missJulie['MMSI']\n",
        "del missJulie['BaseDateTime']\n",
        "del missJulie['Heading']\n",
        "del missJulie['VesselName']\n",
        "del missJulie['IMO']\n",
        "del missJulie['CallSign']\n",
        "del missJulie['VesselType']\n",
        "del missJulie['Length']\n",
        "del missJulie['Width']\n",
        "del missJulie['Draft']\n",
        "del missJulie['Cargo']\n",
        "del missJulie['Status']\n",
        "del missJulie['hour']\n",
        "del missJulie['minute']\n",
        "del missJulie['second']\n",
        "\n",
        "\n"
      ],
      "execution_count": 0,
      "outputs": []
    },
    {
      "cell_type": "code",
      "metadata": {
        "id": "Vzg_Rdv5UHtr",
        "colab_type": "code",
        "outputId": "c3f58d95-4360-4e02-bd5b-e279a52b2601",
        "colab": {
          "base_uri": "https://localhost:8080/",
          "height": 33
        }
      },
      "source": [
        "missJulie.shape"
      ],
      "execution_count": 0,
      "outputs": [
        {
          "output_type": "execute_result",
          "data": {
            "text/plain": [
              "(29592, 6)"
            ]
          },
          "metadata": {
            "tags": []
          },
          "execution_count": 80
        }
      ]
    },
    {
      "cell_type": "markdown",
      "metadata": {
        "id": "-7MQEdOsZSWR",
        "colab_type": "text"
      },
      "source": [
        "So. now we have dataset with six columns. First two are LAT and LON which represents position. Other four are SOG,COG, day and totalTime. We will use LAT and LON as our labels for the training and rest four as input features for the model"
      ]
    },
    {
      "cell_type": "code",
      "metadata": {
        "id": "1LXg6RyvJgaq",
        "colab_type": "code",
        "colab": {}
      },
      "source": [
        "x= missJulie.iloc[:,2:] # input features\n",
        "y= missJulie.iloc[:,0:2] # labels\n"
      ],
      "execution_count": 0,
      "outputs": []
    },
    {
      "cell_type": "code",
      "metadata": {
        "id": "3YWu_Ho0JpyV",
        "colab_type": "code",
        "outputId": "d01d5120-47eb-49e4-da29-db4b7c137ab8",
        "colab": {
          "base_uri": "https://localhost:8080/",
          "height": 33
        }
      },
      "source": [
        "x.shape"
      ],
      "execution_count": 0,
      "outputs": [
        {
          "output_type": "execute_result",
          "data": {
            "text/plain": [
              "(29592, 4)"
            ]
          },
          "metadata": {
            "tags": []
          },
          "execution_count": 82
        }
      ]
    },
    {
      "cell_type": "code",
      "metadata": {
        "id": "E4owheQDJ0hY",
        "colab_type": "code",
        "outputId": "7313aa1b-ecc8-4038-9e7a-9ab8cee99851",
        "colab": {
          "base_uri": "https://localhost:8080/",
          "height": 33
        }
      },
      "source": [
        "y.shape"
      ],
      "execution_count": 0,
      "outputs": [
        {
          "output_type": "execute_result",
          "data": {
            "text/plain": [
              "(29592, 2)"
            ]
          },
          "metadata": {
            "tags": []
          },
          "execution_count": 83
        }
      ]
    },
    {
      "cell_type": "code",
      "metadata": {
        "id": "l6_0AoP8UVV6",
        "colab_type": "code",
        "outputId": "4f6bf3d2-cc69-4d1c-ae6f-164239dc1d6d",
        "colab": {
          "base_uri": "https://localhost:8080/",
          "height": 190
        }
      },
      "source": [
        "missJulie.head()"
      ],
      "execution_count": 0,
      "outputs": [
        {
          "output_type": "execute_result",
          "data": {
            "text/html": [
              "<div>\n",
              "<style scoped>\n",
              "    .dataframe tbody tr th:only-of-type {\n",
              "        vertical-align: middle;\n",
              "    }\n",
              "\n",
              "    .dataframe tbody tr th {\n",
              "        vertical-align: top;\n",
              "    }\n",
              "\n",
              "    .dataframe thead th {\n",
              "        text-align: right;\n",
              "    }\n",
              "</style>\n",
              "<table border=\"1\" class=\"dataframe\">\n",
              "  <thead>\n",
              "    <tr style=\"text-align: right;\">\n",
              "      <th></th>\n",
              "      <th>LAT</th>\n",
              "      <th>LON</th>\n",
              "      <th>SOG</th>\n",
              "      <th>COG</th>\n",
              "      <th>day</th>\n",
              "      <th>totalTime</th>\n",
              "    </tr>\n",
              "  </thead>\n",
              "  <tbody>\n",
              "    <tr>\n",
              "      <th>1465</th>\n",
              "      <td>27.81530</td>\n",
              "      <td>-96.33104</td>\n",
              "      <td>8.1</td>\n",
              "      <td>-133.0</td>\n",
              "      <td>1</td>\n",
              "      <td>354</td>\n",
              "    </tr>\n",
              "    <tr>\n",
              "      <th>1469</th>\n",
              "      <td>27.81544</td>\n",
              "      <td>-96.33971</td>\n",
              "      <td>7.9</td>\n",
              "      <td>-138.3</td>\n",
              "      <td>1</td>\n",
              "      <td>564</td>\n",
              "    </tr>\n",
              "    <tr>\n",
              "      <th>1472</th>\n",
              "      <td>27.81591</td>\n",
              "      <td>-96.35719</td>\n",
              "      <td>7.9</td>\n",
              "      <td>-136.8</td>\n",
              "      <td>1</td>\n",
              "      <td>984</td>\n",
              "    </tr>\n",
              "    <tr>\n",
              "      <th>1474</th>\n",
              "      <td>27.81712</td>\n",
              "      <td>-96.38027</td>\n",
              "      <td>8.7</td>\n",
              "      <td>-142.4</td>\n",
              "      <td>1</td>\n",
              "      <td>1533</td>\n",
              "    </tr>\n",
              "    <tr>\n",
              "      <th>1478</th>\n",
              "      <td>27.81518</td>\n",
              "      <td>-96.31696</td>\n",
              "      <td>7.3</td>\n",
              "      <td>-132.2</td>\n",
              "      <td>1</td>\n",
              "      <td>5</td>\n",
              "    </tr>\n",
              "  </tbody>\n",
              "</table>\n",
              "</div>"
            ],
            "text/plain": [
              "           LAT       LON  SOG    COG  day  totalTime\n",
              "1465  27.81530 -96.33104  8.1 -133.0    1        354\n",
              "1469  27.81544 -96.33971  7.9 -138.3    1        564\n",
              "1472  27.81591 -96.35719  7.9 -136.8    1        984\n",
              "1474  27.81712 -96.38027  8.7 -142.4    1       1533\n",
              "1478  27.81518 -96.31696  7.3 -132.2    1          5"
            ]
          },
          "metadata": {
            "tags": []
          },
          "execution_count": 84
        }
      ]
    },
    {
      "cell_type": "code",
      "metadata": {
        "id": "ZOCT-xi-UXR6",
        "colab_type": "code",
        "outputId": "78142622-6dfc-408e-fdf2-689af951dcf2",
        "colab": {
          "base_uri": "https://localhost:8080/",
          "height": 190
        }
      },
      "source": [
        "x.head()"
      ],
      "execution_count": 0,
      "outputs": [
        {
          "output_type": "execute_result",
          "data": {
            "text/html": [
              "<div>\n",
              "<style scoped>\n",
              "    .dataframe tbody tr th:only-of-type {\n",
              "        vertical-align: middle;\n",
              "    }\n",
              "\n",
              "    .dataframe tbody tr th {\n",
              "        vertical-align: top;\n",
              "    }\n",
              "\n",
              "    .dataframe thead th {\n",
              "        text-align: right;\n",
              "    }\n",
              "</style>\n",
              "<table border=\"1\" class=\"dataframe\">\n",
              "  <thead>\n",
              "    <tr style=\"text-align: right;\">\n",
              "      <th></th>\n",
              "      <th>SOG</th>\n",
              "      <th>COG</th>\n",
              "      <th>day</th>\n",
              "      <th>totalTime</th>\n",
              "    </tr>\n",
              "  </thead>\n",
              "  <tbody>\n",
              "    <tr>\n",
              "      <th>1465</th>\n",
              "      <td>8.1</td>\n",
              "      <td>-133.0</td>\n",
              "      <td>1</td>\n",
              "      <td>354</td>\n",
              "    </tr>\n",
              "    <tr>\n",
              "      <th>1469</th>\n",
              "      <td>7.9</td>\n",
              "      <td>-138.3</td>\n",
              "      <td>1</td>\n",
              "      <td>564</td>\n",
              "    </tr>\n",
              "    <tr>\n",
              "      <th>1472</th>\n",
              "      <td>7.9</td>\n",
              "      <td>-136.8</td>\n",
              "      <td>1</td>\n",
              "      <td>984</td>\n",
              "    </tr>\n",
              "    <tr>\n",
              "      <th>1474</th>\n",
              "      <td>8.7</td>\n",
              "      <td>-142.4</td>\n",
              "      <td>1</td>\n",
              "      <td>1533</td>\n",
              "    </tr>\n",
              "    <tr>\n",
              "      <th>1478</th>\n",
              "      <td>7.3</td>\n",
              "      <td>-132.2</td>\n",
              "      <td>1</td>\n",
              "      <td>5</td>\n",
              "    </tr>\n",
              "  </tbody>\n",
              "</table>\n",
              "</div>"
            ],
            "text/plain": [
              "      SOG    COG  day  totalTime\n",
              "1465  8.1 -133.0    1        354\n",
              "1469  7.9 -138.3    1        564\n",
              "1472  7.9 -136.8    1        984\n",
              "1474  8.7 -142.4    1       1533\n",
              "1478  7.3 -132.2    1          5"
            ]
          },
          "metadata": {
            "tags": []
          },
          "execution_count": 85
        }
      ]
    },
    {
      "cell_type": "code",
      "metadata": {
        "id": "bBSl38KCUZhA",
        "colab_type": "code",
        "outputId": "21daf788-e0d5-4b10-92bb-c9f608a6c7ed",
        "colab": {
          "base_uri": "https://localhost:8080/",
          "height": 190
        }
      },
      "source": [
        "y.head()"
      ],
      "execution_count": 0,
      "outputs": [
        {
          "output_type": "execute_result",
          "data": {
            "text/html": [
              "<div>\n",
              "<style scoped>\n",
              "    .dataframe tbody tr th:only-of-type {\n",
              "        vertical-align: middle;\n",
              "    }\n",
              "\n",
              "    .dataframe tbody tr th {\n",
              "        vertical-align: top;\n",
              "    }\n",
              "\n",
              "    .dataframe thead th {\n",
              "        text-align: right;\n",
              "    }\n",
              "</style>\n",
              "<table border=\"1\" class=\"dataframe\">\n",
              "  <thead>\n",
              "    <tr style=\"text-align: right;\">\n",
              "      <th></th>\n",
              "      <th>LAT</th>\n",
              "      <th>LON</th>\n",
              "    </tr>\n",
              "  </thead>\n",
              "  <tbody>\n",
              "    <tr>\n",
              "      <th>1465</th>\n",
              "      <td>27.81530</td>\n",
              "      <td>-96.33104</td>\n",
              "    </tr>\n",
              "    <tr>\n",
              "      <th>1469</th>\n",
              "      <td>27.81544</td>\n",
              "      <td>-96.33971</td>\n",
              "    </tr>\n",
              "    <tr>\n",
              "      <th>1472</th>\n",
              "      <td>27.81591</td>\n",
              "      <td>-96.35719</td>\n",
              "    </tr>\n",
              "    <tr>\n",
              "      <th>1474</th>\n",
              "      <td>27.81712</td>\n",
              "      <td>-96.38027</td>\n",
              "    </tr>\n",
              "    <tr>\n",
              "      <th>1478</th>\n",
              "      <td>27.81518</td>\n",
              "      <td>-96.31696</td>\n",
              "    </tr>\n",
              "  </tbody>\n",
              "</table>\n",
              "</div>"
            ],
            "text/plain": [
              "           LAT       LON\n",
              "1465  27.81530 -96.33104\n",
              "1469  27.81544 -96.33971\n",
              "1472  27.81591 -96.35719\n",
              "1474  27.81712 -96.38027\n",
              "1478  27.81518 -96.31696"
            ]
          },
          "metadata": {
            "tags": []
          },
          "execution_count": 86
        }
      ]
    },
    {
      "cell_type": "markdown",
      "metadata": {
        "id": "4q1r6aRrbleD",
        "colab_type": "text"
      },
      "source": [
        "Split dataset in training and test. We will seperate 20% of the total data and use it for testing the performance of the model."
      ]
    },
    {
      "cell_type": "code",
      "metadata": {
        "id": "y8D5XqbqUcGL",
        "colab_type": "code",
        "colab": {}
      },
      "source": [
        "x_train, x_test, y_train, y_test = train_test_split (x,y,test_size = 0.2, random_state = seed)"
      ],
      "execution_count": 0,
      "outputs": []
    },
    {
      "cell_type": "markdown",
      "metadata": {
        "id": "dQUyk6uqbylR",
        "colab_type": "text"
      },
      "source": [
        "As, all the features have values in diferent ranges, we will use MinMax Sxaler to scale all features and label to have values in the range of (-1,1)"
      ]
    },
    {
      "cell_type": "code",
      "metadata": {
        "id": "F7OOGFHMUgmw",
        "colab_type": "code",
        "colab": {}
      },
      "source": [
        "scaler_x=preprocessing.MinMaxScaler(feature_range =(-1 , 1))\n",
        "\n",
        "x_train_scalled=scaler_x.fit_transform(x_train)\n",
        "x_test_scalled=scaler_x.transform(x_test)    \n",
        "\n",
        "scaler_y=preprocessing.MinMaxScaler(feature_range =(-1 , 1))\n",
        "y_train_scalled=scaler_y.fit_transform(y_train)\n",
        "y_test_scalled=scaler_y.transform(y_test)"
      ],
      "execution_count": 0,
      "outputs": []
    },
    {
      "cell_type": "markdown",
      "metadata": {
        "id": "mM_A3pnUcfhw",
        "colab_type": "text"
      },
      "source": [
        "Lets define a Neural network model. We will use fully connected layers to build a network. "
      ]
    },
    {
      "cell_type": "code",
      "metadata": {
        "id": "KJoxSAS_UkXx",
        "colab_type": "code",
        "outputId": "c4446156-db87-4f4b-dbe3-0379e5a9eb5f",
        "colab": {
          "base_uri": "https://localhost:8080/",
          "height": 319
        }
      },
      "source": [
        "# define model\n",
        "model = Sequential()\n",
        "model.add(Dense(4, input_shape=(4,),kernel_regularizer='l1_l2',activation='relu'))\n",
        "model.add(Dense(128,activation='relu'))\n",
        "model.add(Dense(512,activation='relu'))\n",
        "model.add(Dense(128,activation='relu'))\n",
        "model.add(Dense(2,activation='linear'))\n",
        "model.summary()"
      ],
      "execution_count": 0,
      "outputs": [
        {
          "output_type": "stream",
          "text": [
            "Model: \"sequential_9\"\n",
            "_________________________________________________________________\n",
            "Layer (type)                 Output Shape              Param #   \n",
            "=================================================================\n",
            "dense_41 (Dense)             (None, 4)                 20        \n",
            "_________________________________________________________________\n",
            "dense_42 (Dense)             (None, 128)               640       \n",
            "_________________________________________________________________\n",
            "dense_43 (Dense)             (None, 512)               66048     \n",
            "_________________________________________________________________\n",
            "dense_44 (Dense)             (None, 128)               65664     \n",
            "_________________________________________________________________\n",
            "dense_45 (Dense)             (None, 2)                 258       \n",
            "=================================================================\n",
            "Total params: 132,630\n",
            "Trainable params: 132,630\n",
            "Non-trainable params: 0\n",
            "_________________________________________________________________\n"
          ],
          "name": "stdout"
        }
      ]
    },
    {
      "cell_type": "code",
      "metadata": {
        "id": "-qFKub4MUnLu",
        "colab_type": "code",
        "colab": {}
      },
      "source": [
        "# compile model\n",
        "# adam=Adam(lr=0.001, beta_1=0.9, beta_2=0.999, epsilon=None, decay=0.1, amsgrad=False)\n",
        "model.compile(optimizer='adam', loss='mse')"
      ],
      "execution_count": 0,
      "outputs": []
    },
    {
      "cell_type": "markdown",
      "metadata": {
        "id": "3huxCZ7AgfyR",
        "colab_type": "text"
      },
      "source": [
        "define callbacks to prevent model from overfitting \n",
        "Earlystopping, reduce learning rate on plateau and check point to save the model"
      ]
    },
    {
      "cell_type": "code",
      "metadata": {
        "id": "6z4G5kFEU7sU",
        "colab_type": "code",
        "colab": {}
      },
      "source": [
        "#%% callbacks\n",
        "weight_name = 'model.h5'\n",
        "checkpoint = ModelCheckpoint(weight_name, monitor='val_loss', verbose=1, save_best_only=True, mode='min')\n",
        "early = EarlyStopping(monitor='val_loss', patience=4, verbose=1, mode='min')\n",
        "lr = ReduceLROnPlateau(monitor='val_loss', factor=0.1, patience=4, verbose=0, mode='auto', cooldown=0,\n",
        "                       min_lr=1e-6)\n",
        "callbacks_list = [checkpoint, lr, early]"
      ],
      "execution_count": 0,
      "outputs": []
    },
    {
      "cell_type": "code",
      "metadata": {
        "id": "Ef7FKKlAVFKG",
        "colab_type": "code",
        "outputId": "410b64f4-4e30-4faf-b4a9-34061782e298",
        "colab": {
          "base_uri": "https://localhost:8080/",
          "height": 1000
        }
      },
      "source": [
        "# train model\n",
        "samples = len(x_train)\n",
        "startTime = time.time()\n",
        "history = model.fit(x_train_scalled, y_train_scalled,\n",
        "                    epochs=100,\n",
        "                    shuffle = False,\n",
        "                    batch_size = 32,\n",
        "                    verbose=1,\n",
        "                    validation_split = 0.1,\n",
        "                    callbacks = callbacks_list)\n",
        "endTime = time.time()\n",
        "timeToTrain = endTime - startTime"
      ],
      "execution_count": 0,
      "outputs": [
        {
          "output_type": "stream",
          "text": [
            "Train on 21305 samples, validate on 2368 samples\n",
            "Epoch 1/100\n",
            "21305/21305 [==============================] - 4s 170us/step - loss: 0.3302 - val_loss: 0.2755\n",
            "\n",
            "Epoch 00001: val_loss improved from inf to 0.27551, saving model to model.h5\n",
            "Epoch 2/100\n",
            "21305/21305 [==============================] - 3s 117us/step - loss: 0.2452 - val_loss: 0.2116\n",
            "\n",
            "Epoch 00002: val_loss improved from 0.27551 to 0.21157, saving model to model.h5\n",
            "Epoch 3/100\n",
            "21305/21305 [==============================] - 3s 120us/step - loss: 0.1908 - val_loss: 0.1745\n",
            "\n",
            "Epoch 00003: val_loss improved from 0.21157 to 0.17445, saving model to model.h5\n",
            "Epoch 4/100\n",
            "21305/21305 [==============================] - 3s 124us/step - loss: 0.1516 - val_loss: 0.1417\n",
            "\n",
            "Epoch 00004: val_loss improved from 0.17445 to 0.14165, saving model to model.h5\n",
            "Epoch 5/100\n",
            "21305/21305 [==============================] - 3s 121us/step - loss: 0.1275 - val_loss: 0.1221\n",
            "\n",
            "Epoch 00005: val_loss improved from 0.14165 to 0.12213, saving model to model.h5\n",
            "Epoch 6/100\n",
            "21305/21305 [==============================] - 3s 122us/step - loss: 0.1104 - val_loss: 0.1068\n",
            "\n",
            "Epoch 00006: val_loss improved from 0.12213 to 0.10681, saving model to model.h5\n",
            "Epoch 7/100\n",
            "21305/21305 [==============================] - 3s 120us/step - loss: 0.1013 - val_loss: 0.0935\n",
            "\n",
            "Epoch 00007: val_loss improved from 0.10681 to 0.09346, saving model to model.h5\n",
            "Epoch 8/100\n",
            "21305/21305 [==============================] - 3s 123us/step - loss: 0.0893 - val_loss: 0.0839\n",
            "\n",
            "Epoch 00008: val_loss improved from 0.09346 to 0.08389, saving model to model.h5\n",
            "Epoch 9/100\n",
            "21305/21305 [==============================] - 3s 123us/step - loss: 0.0820 - val_loss: 0.0773\n",
            "\n",
            "Epoch 00009: val_loss improved from 0.08389 to 0.07729, saving model to model.h5\n",
            "Epoch 10/100\n",
            "21305/21305 [==============================] - 3s 125us/step - loss: 0.0775 - val_loss: 0.0741\n",
            "\n",
            "Epoch 00010: val_loss improved from 0.07729 to 0.07414, saving model to model.h5\n",
            "Epoch 11/100\n",
            "21305/21305 [==============================] - 3s 120us/step - loss: 0.0723 - val_loss: 0.0675\n",
            "\n",
            "Epoch 00011: val_loss improved from 0.07414 to 0.06746, saving model to model.h5\n",
            "Epoch 12/100\n",
            "21305/21305 [==============================] - 3s 120us/step - loss: 0.0682 - val_loss: 0.0664\n",
            "\n",
            "Epoch 00012: val_loss improved from 0.06746 to 0.06639, saving model to model.h5\n",
            "Epoch 13/100\n",
            "21305/21305 [==============================] - 3s 119us/step - loss: 0.0659 - val_loss: 0.0587\n",
            "\n",
            "Epoch 00013: val_loss improved from 0.06639 to 0.05873, saving model to model.h5\n",
            "Epoch 14/100\n",
            "21305/21305 [==============================] - 3s 119us/step - loss: 0.0600 - val_loss: 0.0557\n",
            "\n",
            "Epoch 00014: val_loss improved from 0.05873 to 0.05570, saving model to model.h5\n",
            "Epoch 15/100\n",
            "21305/21305 [==============================] - 3s 121us/step - loss: 0.0590 - val_loss: 0.0595\n",
            "\n",
            "Epoch 00015: val_loss did not improve from 0.05570\n",
            "Epoch 16/100\n",
            "21305/21305 [==============================] - 3s 119us/step - loss: 0.0552 - val_loss: 0.0555\n",
            "\n",
            "Epoch 00016: val_loss improved from 0.05570 to 0.05547, saving model to model.h5\n",
            "Epoch 17/100\n",
            "21305/21305 [==============================] - 3s 121us/step - loss: 0.0547 - val_loss: 0.0547\n",
            "\n",
            "Epoch 00017: val_loss improved from 0.05547 to 0.05472, saving model to model.h5\n",
            "Epoch 18/100\n",
            "21305/21305 [==============================] - 3s 118us/step - loss: 0.0509 - val_loss: 0.0452\n",
            "\n",
            "Epoch 00018: val_loss improved from 0.05472 to 0.04521, saving model to model.h5\n",
            "Epoch 19/100\n",
            "21305/21305 [==============================] - 3s 122us/step - loss: 0.0497 - val_loss: 0.0438\n",
            "\n",
            "Epoch 00019: val_loss improved from 0.04521 to 0.04384, saving model to model.h5\n",
            "Epoch 20/100\n",
            "21305/21305 [==============================] - 3s 121us/step - loss: 0.0472 - val_loss: 0.0414\n",
            "\n",
            "Epoch 00020: val_loss improved from 0.04384 to 0.04140, saving model to model.h5\n",
            "Epoch 21/100\n",
            "21305/21305 [==============================] - 3s 120us/step - loss: 0.0562 - val_loss: 0.0414\n",
            "\n",
            "Epoch 00021: val_loss did not improve from 0.04140\n",
            "Epoch 22/100\n",
            "21305/21305 [==============================] - 3s 122us/step - loss: 0.0484 - val_loss: 0.0390\n",
            "\n",
            "Epoch 00022: val_loss improved from 0.04140 to 0.03897, saving model to model.h5\n",
            "Epoch 23/100\n",
            "21305/21305 [==============================] - 3s 120us/step - loss: 0.0431 - val_loss: 0.0388\n",
            "\n",
            "Epoch 00023: val_loss improved from 0.03897 to 0.03882, saving model to model.h5\n",
            "Epoch 24/100\n",
            "21305/21305 [==============================] - 3s 127us/step - loss: 0.0399 - val_loss: 0.0385\n",
            "\n",
            "Epoch 00024: val_loss improved from 0.03882 to 0.03850, saving model to model.h5\n",
            "Epoch 25/100\n",
            "21305/21305 [==============================] - 3s 129us/step - loss: 0.0442 - val_loss: 0.0356\n",
            "\n",
            "Epoch 00025: val_loss improved from 0.03850 to 0.03558, saving model to model.h5\n",
            "Epoch 26/100\n",
            "21305/21305 [==============================] - 3s 135us/step - loss: 0.0383 - val_loss: 0.0389\n",
            "\n",
            "Epoch 00026: val_loss did not improve from 0.03558\n",
            "Epoch 27/100\n",
            "21305/21305 [==============================] - 3s 132us/step - loss: 0.0395 - val_loss: 0.0374\n",
            "\n",
            "Epoch 00027: val_loss did not improve from 0.03558\n",
            "Epoch 28/100\n",
            "21305/21305 [==============================] - 3s 138us/step - loss: 0.0403 - val_loss: 0.0334\n",
            "\n",
            "Epoch 00028: val_loss improved from 0.03558 to 0.03336, saving model to model.h5\n",
            "Epoch 29/100\n",
            "21305/21305 [==============================] - 3s 127us/step - loss: 0.0347 - val_loss: 0.0309\n",
            "\n",
            "Epoch 00029: val_loss improved from 0.03336 to 0.03093, saving model to model.h5\n",
            "Epoch 30/100\n",
            "21305/21305 [==============================] - 3s 132us/step - loss: 0.0339 - val_loss: 0.0291\n",
            "\n",
            "Epoch 00030: val_loss improved from 0.03093 to 0.02912, saving model to model.h5\n",
            "Epoch 31/100\n",
            "21305/21305 [==============================] - 3s 132us/step - loss: 0.0387 - val_loss: 0.0285\n",
            "\n",
            "Epoch 00031: val_loss improved from 0.02912 to 0.02850, saving model to model.h5\n",
            "Epoch 32/100\n",
            "21305/21305 [==============================] - 3s 136us/step - loss: 0.0340 - val_loss: 0.0299\n",
            "\n",
            "Epoch 00032: val_loss did not improve from 0.02850\n",
            "Epoch 33/100\n",
            "21305/21305 [==============================] - 3s 128us/step - loss: 0.0356 - val_loss: 0.0318\n",
            "\n",
            "Epoch 00033: val_loss did not improve from 0.02850\n",
            "Epoch 34/100\n",
            "21305/21305 [==============================] - 2s 117us/step - loss: 0.0322 - val_loss: 0.0283\n",
            "\n",
            "Epoch 00034: val_loss improved from 0.02850 to 0.02826, saving model to model.h5\n",
            "Epoch 35/100\n",
            "21305/21305 [==============================] - 3s 123us/step - loss: 0.0423 - val_loss: 0.0464\n",
            "\n",
            "Epoch 00035: val_loss did not improve from 0.02826\n",
            "Epoch 36/100\n",
            "21305/21305 [==============================] - 2s 116us/step - loss: 0.0415 - val_loss: 0.0356\n",
            "\n",
            "Epoch 00036: val_loss did not improve from 0.02826\n",
            "Epoch 37/100\n",
            "21305/21305 [==============================] - 3s 119us/step - loss: 0.0363 - val_loss: 0.0297\n",
            "\n",
            "Epoch 00037: val_loss did not improve from 0.02826\n",
            "Epoch 38/100\n",
            "21305/21305 [==============================] - 2s 116us/step - loss: 0.0330 - val_loss: 0.0279\n",
            "\n",
            "Epoch 00038: val_loss improved from 0.02826 to 0.02792, saving model to model.h5\n",
            "Epoch 39/100\n",
            "21305/21305 [==============================] - 3s 119us/step - loss: 0.0287 - val_loss: 0.0240\n",
            "\n",
            "Epoch 00039: val_loss improved from 0.02792 to 0.02404, saving model to model.h5\n",
            "Epoch 40/100\n",
            "21305/21305 [==============================] - 2s 117us/step - loss: 0.0286 - val_loss: 0.0246\n",
            "\n",
            "Epoch 00040: val_loss did not improve from 0.02404\n",
            "Epoch 41/100\n",
            "21305/21305 [==============================] - 3s 119us/step - loss: 0.0344 - val_loss: 0.0238\n",
            "\n",
            "Epoch 00041: val_loss improved from 0.02404 to 0.02384, saving model to model.h5\n",
            "Epoch 42/100\n",
            "21305/21305 [==============================] - 2s 117us/step - loss: 0.0270 - val_loss: 0.0218\n",
            "\n",
            "Epoch 00042: val_loss improved from 0.02384 to 0.02184, saving model to model.h5\n",
            "Epoch 43/100\n",
            "21305/21305 [==============================] - 3s 118us/step - loss: 0.0255 - val_loss: 0.0238\n",
            "\n",
            "Epoch 00043: val_loss did not improve from 0.02184\n",
            "Epoch 44/100\n",
            "21305/21305 [==============================] - 3s 129us/step - loss: 0.0262 - val_loss: 0.0198\n",
            "\n",
            "Epoch 00044: val_loss improved from 0.02184 to 0.01977, saving model to model.h5\n",
            "Epoch 45/100\n",
            "21305/21305 [==============================] - 3s 122us/step - loss: 0.0290 - val_loss: 0.0193\n",
            "\n",
            "Epoch 00045: val_loss improved from 0.01977 to 0.01932, saving model to model.h5\n",
            "Epoch 46/100\n",
            "21305/21305 [==============================] - 3s 122us/step - loss: 0.0211 - val_loss: 0.0212\n",
            "\n",
            "Epoch 00046: val_loss did not improve from 0.01932\n",
            "Epoch 47/100\n",
            "21305/21305 [==============================] - 3s 123us/step - loss: 0.0233 - val_loss: 0.0188\n",
            "\n",
            "Epoch 00047: val_loss improved from 0.01932 to 0.01879, saving model to model.h5\n",
            "Epoch 48/100\n",
            "21305/21305 [==============================] - 3s 125us/step - loss: 0.0262 - val_loss: 0.0222\n",
            "\n",
            "Epoch 00048: val_loss did not improve from 0.01879\n",
            "Epoch 49/100\n",
            "21305/21305 [==============================] - 3s 126us/step - loss: 0.0242 - val_loss: 0.0183\n",
            "\n",
            "Epoch 00049: val_loss improved from 0.01879 to 0.01832, saving model to model.h5\n",
            "Epoch 50/100\n",
            "21305/21305 [==============================] - 3s 121us/step - loss: 0.0215 - val_loss: 0.0212\n",
            "\n",
            "Epoch 00050: val_loss did not improve from 0.01832\n",
            "Epoch 51/100\n",
            "21305/21305 [==============================] - 3s 121us/step - loss: 0.0401 - val_loss: 0.0230\n",
            "\n",
            "Epoch 00051: val_loss did not improve from 0.01832\n",
            "Epoch 52/100\n",
            "21305/21305 [==============================] - 3s 125us/step - loss: 0.0235 - val_loss: 0.0225\n",
            "\n",
            "Epoch 00052: val_loss did not improve from 0.01832\n",
            "Epoch 53/100\n",
            "21305/21305 [==============================] - 3s 123us/step - loss: 0.0227 - val_loss: 0.0191\n",
            "\n",
            "Epoch 00053: val_loss did not improve from 0.01832\n",
            "Epoch 00053: early stopping\n"
          ],
          "name": "stdout"
        }
      ]
    },
    {
      "cell_type": "code",
      "metadata": {
        "id": "NDx3m713VK1D",
        "colab_type": "code",
        "outputId": "5680d419-6db6-4e31-a566-6475326648fa",
        "colab": {
          "base_uri": "https://localhost:8080/",
          "height": 312
        }
      },
      "source": [
        "# plot loss curves\n",
        "plt.figure(1)\n",
        "plt.plot(history.history['loss'])\n",
        "plt.plot(history.history['val_loss'])\n",
        "plt.title('Loss curve')\n",
        "plt.ylabel('loss')\n",
        "plt.xlabel('epoch')\n",
        "plt.legend(['train_loss','val_loss'], loc='upper left')"
      ],
      "execution_count": 0,
      "outputs": [
        {
          "output_type": "execute_result",
          "data": {
            "text/plain": [
              "<matplotlib.legend.Legend at 0x7f0e27981320>"
            ]
          },
          "metadata": {
            "tags": []
          },
          "execution_count": 121
        },
        {
          "output_type": "display_data",
          "data": {
            "image/png": "[encoded data removed]",
            "text/plain": [
              "<Figure size 432x288 with 1 Axes>"
            ]
          },
          "metadata": {
            "tags": []
          }
        }
      ]
    },
    {
      "cell_type": "markdown",
      "metadata": {
        "id": "xQwGVeBlhJyy",
        "colab_type": "text"
      },
      "source": [
        "Now predict the position for the test dataset\n"
      ]
    },
    {
      "cell_type": "code",
      "metadata": {
        "id": "3EcNKwLGf3DX",
        "colab_type": "code",
        "colab": {}
      },
      "source": [
        "y_predict = model.predict(x_test_scalled)"
      ],
      "execution_count": 0,
      "outputs": []
    },
    {
      "cell_type": "markdown",
      "metadata": {
        "id": "d43CsObshXpC",
        "colab_type": "text"
      },
      "source": [
        "as the labels are also scaled to have vlues between (-1,1), we need to inverse scale the predition to get the right data"
      ]
    },
    {
      "cell_type": "code",
      "metadata": {
        "id": "3dGAuZzRrL5w",
        "colab_type": "code",
        "colab": {}
      },
      "source": [
        "y_predict_inv_scalled = scaler_y.inverse_transform(y_predict)"
      ],
      "execution_count": 0,
      "outputs": []
    },
    {
      "cell_type": "markdown",
      "metadata": {
        "id": "40x7TvhRxHE5",
        "colab_type": "text"
      },
      "source": [
        "Y_predict_inv_scalled has 2 columns one representing LAT and another one representing LON prediction data. Lets plot a graph between original LAT and predicited LAT data"
      ]
    },
    {
      "cell_type": "code",
      "metadata": {
        "colab_type": "code",
        "outputId": "d1307cc7-3be0-4193-91dc-5574042b5d29",
        "id": "qp-hhYjKVi9f",
        "colab": {
          "base_uri": "https://localhost:8080/",
          "height": 312
        }
      },
      "source": [
        "plt.figure(1)\n",
        "plt.plot(np.array(y_test['LAT'])[1400:1500,])\n",
        "plt.plot(y_predict_inv_scalled[1400:1500,0]) #y_predict_inv_scalled\n",
        "plt.title('Latitude Prediction')\n",
        "plt.ylabel('LAT')\n",
        "plt.xlabel('sample')\n",
        "plt.legend(['y_test_data','y_prediction'], loc='upper left')"
      ],
      "execution_count": 0,
      "outputs": [
        {
          "output_type": "execute_result",
          "data": {
            "text/plain": [
              "<matplotlib.legend.Legend at 0x7f0e282e3da0>"
            ]
          },
          "metadata": {
            "tags": []
          },
          "execution_count": 127
        },
        {
          "output_type": "display_data",
          "data": {
            "image/png": "[encoded data removed]",
            "text/plain": [
              "<Figure size 432x288 with 1 Axes>"
            ]
          },
          "metadata": {
            "tags": []
          }
        }
      ]
    },
    {
      "cell_type": "markdown",
      "metadata": {
        "id": "TUDKvTJrxd3g",
        "colab_type": "text"
      },
      "source": [
        "plot a graph between original LON and predicited LON data"
      ]
    },
    {
      "cell_type": "code",
      "metadata": {
        "id": "-mowf8Vrzcxj",
        "colab_type": "code",
        "outputId": "96c69f3b-9b6c-41c6-ba43-a3bd4dab62f9",
        "colab": {
          "base_uri": "https://localhost:8080/",
          "height": 312
        }
      },
      "source": [
        "plt.figure(1)\n",
        "plt.plot(np.array(y_test['LON'])[4000:4100,])\n",
        "plt.plot(y_predict_inv_scalled[4000:4100,1])\n",
        "plt.title('Longitude Prediction')\n",
        "plt.ylabel('LON')\n",
        "plt.xlabel('sample')\n",
        "plt.legend(['y_test','y_prediction'], loc='upper left')"
      ],
      "execution_count": 0,
      "outputs": [
        {
          "output_type": "execute_result",
          "data": {
            "text/plain": [
              "<matplotlib.legend.Legend at 0x7f0e284f9fd0>"
            ]
          },
          "metadata": {
            "tags": []
          },
          "execution_count": 128
        },
        {
          "output_type": "display_data",
          "data": {
            "image/png": "[encoded data removed]",
            "text/plain": [
              "<Figure size 432x288 with 1 Axes>"
            ]
          },
          "metadata": {
            "tags": []
          }
        }
      ]
    },
    {
      "cell_type": "markdown",
      "metadata": {
        "id": "ONb_myQYxkw3",
        "colab_type": "text"
      },
      "source": [
        "Measure the root mean square between original test position data and predicted poistion data"
      ]
    },
    {
      "cell_type": "code",
      "metadata": {
        "id": "GxB_1wT65tgK",
        "colab_type": "code",
        "outputId": "1f631d83-12ae-4da9-9a87-170fa8fd8104",
        "colab": {
          "base_uri": "https://localhost:8080/",
          "height": 50
        }
      },
      "source": [
        "# performance measure - calculate mean squared error between predicted data and original data\n",
        "rmse_LAT = sqrt(mean_squared_error(np.array(y_test['LAT'])[:,], y_predict_inv_scalled[:,0]))\n",
        "rmse_LON = sqrt(mean_squared_error(np.array(y_test['LON'])[:,], y_predict_inv_scalled[:,1]))\n",
        "print('RMSE for LAT is: %.9f' % rmse_LAT)\n",
        "print('RMSE for LON is: %.9f' % rmse_LON)"
      ],
      "execution_count": 0,
      "outputs": [
        {
          "output_type": "stream",
          "text": [
            "RMSE for LAT is: 0.020246409\n",
            "RMSE for LON is: 0.062277771\n"
          ],
          "name": "stdout"
        }
      ]
    },
    {
      "cell_type": "markdown",
      "metadata": {
        "id": "UhgaTj_6xuK-",
        "colab_type": "text"
      },
      "source": [
        "Performance of the model can be further improved by changing different parameters of the model like number and types of layers, optimization algorithm, number of epochs, batch_size, etc."
      ]
    },
    {
      "cell_type": "markdown",
      "metadata": {
        "id": "tOrmuZte0Uc_",
        "colab_type": "text"
      },
      "source": [
        "\n",
        "\n",
        "---\n",
        "\n"
      ]
    },
    {
      "cell_type": "markdown",
      "metadata": {
        "id": "tjdjNupf0X-c",
        "colab_type": "text"
      },
      "source": [
        "**To predict position for any new data:**\n",
        "new data must be in this form: (SOG, COG, day, totalTime) where totalTime = hour x 3600 + minutes x 60 + seconds\n",
        "\n",
        "`newX = np.array([SOG, COG,\tday, totalTime]) `\n",
        "\n",
        "scale 'newX' with the same scaler which was used for scalin the training data (i.e. scalerX) \n",
        "\n",
        "```\n",
        "newX = scaler_x.transform(newX)\n",
        "newPos = model.predict(newX)\n",
        "```\n",
        "\n",
        "\n",
        "inverse scale the prediction\n",
        "\n",
        "`newPos = scaler_y.inverse_transform(newPos)`     #newPos is in the form : (LAT,LON)"
      ]
    }
  ]
}